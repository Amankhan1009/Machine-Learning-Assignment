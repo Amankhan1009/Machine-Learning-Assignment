{
 "cells": [
  {
   "cell_type": "markdown",
   "metadata": {},
   "source": [
    "Q1>>What does R-squared represent in a regression model:"
   ]
  },
  {
   "cell_type": "markdown",
   "metadata": {},
   "source": [
    "Ans>>R-squared measures the proportion of variance in the dependent variable that is explained by the independent variables. It ranges from 0 to 1, where a higher value indicates a better fit of the model to the data.\n"
   ]
  },
  {
   "cell_type": "markdown",
   "metadata": {},
   "source": [
    "Q2>>What are the assumptions of linear regression?"
   ]
  },
  {
   "cell_type": "markdown",
   "metadata": {},
   "source": [
    "Ans>>Linearity: The relationship between independent and dependent variables is linear.\n",
    "\n",
    "\n",
    "Independence: Observations are independent of each other.\n",
    "\n",
    "Homoscedasticity: The residuals (errors) have constant variance.\n",
    "\n",
    "Normality of Residuals: Residuals are normally distributed.\n",
    "\n",
    "No Multicollinearity: Independent variables are not highly correlated."
   ]
  },
  {
   "cell_type": "markdown",
   "metadata": {},
   "source": [
    "Q3>>What is the difference between R-squared and Adjusted R-squared?"
   ]
  },
  {
   "cell_type": "markdown",
   "metadata": {},
   "source": [
    "Ans>>R-squared increases as more predictors are added to the model, even if they are not significant.\n",
    "\n",
    "Adjusted R-squared adjusts for the number of predictors and only increases if the new predictor improves the model more than expected by chance."
   ]
  },
  {
   "cell_type": "markdown",
   "metadata": {},
   "source": [
    "Qn4>> Why do we use Mean Squared Error (MSE)?\n",
    "\n",
    "Ans>>MSE is a popular metric to measure the average squared differences between predicted and actual values. It penalizes large errors more than small errors, making it sensitive to outliers and suitable for optimization during model training."
   ]
  },
  {
   "cell_type": "markdown",
   "metadata": {},
   "source": [
    "Qn5>>What does an Adjusted R-squared value of 0.85 indicate?\n",
    "\n",
    "Ans>>An Adjusted R-squared of 0.85 means 85% of the variance in the dependent variable is explained by the independent variables, accounting for the number of predictors in the model."
   ]
  },
  {
   "cell_type": "markdown",
   "metadata": {},
   "source": [
    "Qn6>>How do we check for normality of residuals in linear regression?\n",
    "\n",
    "Ans>>\n",
    "Use a Q-Q plot to compare residuals to a normal distribution.\n",
    "\n",
    "\n",
    "Perform a statistical test like the Shapiro-Wilk or Kolmogorov-Smirnov test.\n",
    "\n",
    "Visualize the residuals using a histogram."
   ]
  },
  {
   "cell_type": "markdown",
   "metadata": {},
   "source": [
    "Qn7>> What is multicollinearity, and how does it impact regression?\n",
    "\n",
    "Ans>>\n",
    "Multicollinearity occurs when independent variables are highly correlated. It can inflate the standard errors of coefficients, making it difficult to determine the individual impact of predictors."
   ]
  },
  {
   "cell_type": "markdown",
   "metadata": {},
   "source": [
    "Qn8>>What is Mean Absolute Error (MAE)?\n",
    "\n",
    "MAE measures the average absolute difference between predicted and actual values. It is less sensitive to outliers compared to MSE."
   ]
  },
  {
   "cell_type": "markdown",
   "metadata": {},
   "source": [
    "Qn9>>What are the benefits of using an ML pipeline?\n",
    "\n",
    "Ans>>\n",
    "\n",
    "Automation: Streamlines preprocessing and modeling steps.\n",
    "\n",
    "Reproducibility: Ensures consistent transformations and predictions.\n",
    "\n",
    "Ease of Experimentation: Simplifies testing different configurations.\n",
    "\n",
    "Error Reduction: Reduces the likelihood of manual errors in data handling.\n"
   ]
  },
  {
   "cell_type": "markdown",
   "metadata": {},
   "source": [
    "Qn10>> Why is RMSE considered more interpretable than MSE?\n",
    "\n",
    "RMSE (Root Mean Squared Error) is in the same units as the dependent variable, making it easier to interpret compared to MSE, which is in squared units.\n"
   ]
  },
  {
   "cell_type": "markdown",
   "metadata": {},
   "source": [
    "Qn11>>What is pickling in Python, and how is it useful in ML?\n",
    "\n",
    "Pickling is the process of serializing Python objects into binary files using pickle. In ML, it allows saving trained models and reloading them for later use without retraining."
   ]
  },
  {
   "cell_type": "markdown",
   "metadata": {},
   "source": [
    "Qn12>> What does a high R-squared value mean?\n",
    "\n",
    "A high R-squared value indicates that the model explains a large proportion of the variance in the dependent variable. However, it does not guarantee good predictions or validity of the model assumptions."
   ]
  },
  {
   "cell_type": "markdown",
   "metadata": {},
   "source": [
    "Qn13>> What happens if linear regression assumptions are violated?\n",
    "\n",
    "Violations can lead to:\n",
    "\n",
    "Biased or inefficient estimates.\n",
    "\n",
    "Misleading results.\n",
    "\n",
    "Reduced predictive accuracy.\n"
   ]
  },
  {
   "cell_type": "markdown",
   "metadata": {},
   "source": [
    "Qn14>> How can we address multicollinearity in regression?\n",
    "\n",
    "Remove or combine highly correlated predictors.\n",
    "\n",
    "Use regularization methods like Ridge or Lasso regression.\n",
    "\n",
    "Calculate and remove variables with high Variance Inflation Factor (VIF)."
   ]
  },
  {
   "cell_type": "markdown",
   "metadata": {},
   "source": [
    "Qn15>> How can feature selection improve model performance in regression analysis?\n",
    "\n",
    "Feature selection removes irrelevant or redundant variables, improving:\n",
    "\n",
    "Model interpretability.\n",
    "\n",
    "Computational efficiency.\n",
    "\n",
    "Generalization to new data.\n"
   ]
  },
  {
   "cell_type": "markdown",
   "metadata": {},
   "source": [
    "Qn16>>How is Adjusted R-squared calculated?\n",
    "\n",
    "Ans>>\n",
    "1-(1-rsq)*(len(y_test)-1)/(len(y_test)-X_test.shape[1] - 1)\n",
    "\n"
   ]
  },
  {
   "cell_type": "markdown",
   "metadata": {},
   "source": [
    "Qn17>>Why is MSE sensitive to outliers?\n",
    "\n",
    "MSE squares the residuals, so larger errors contribute disproportionately to the metric, making it highly sensitive to outliers."
   ]
  },
  {
   "cell_type": "markdown",
   "metadata": {},
   "source": [
    "Qn18>>What is the role of homoscedasticity in linear regression?\n",
    "\n",
    "Homoscedasticity ensures that the variance of residuals is constant across all levels of the independent variables. Violation can lead to inefficient estimates and unreliable hypothesis tests."
   ]
  },
  {
   "cell_type": "markdown",
   "metadata": {},
   "source": [
    "Qn19>> What is Root Mean Squared Error (RMSE)?\n",
    "\n",
    "RMSE is the square root of the Mean Squared Error and measures the average error magnitude between predictions and actual values, expressed in the same units as the target variable."
   ]
  },
  {
   "cell_type": "markdown",
   "metadata": {},
   "source": [
    "Qn20>>Why is pickling considered risky?\n",
    "\n",
    "Pickled files can execute arbitrary code when unpickled, making them vulnerable to malicious attacks if loaded from untrusted sources."
   ]
  },
  {
   "cell_type": "markdown",
   "metadata": {},
   "source": [
    "\n",
    "Qn21>>What alternatives exist to pickling for saving ML models?\n",
    "\n",
    "Joblib: Optimized for large arrays and objects.\n",
    "\n",
    "ONNX: Open Neural Network Exchange format for interoperability.\n",
    "\n",
    "JSON: For simple, text-based serialization of lightweight objects.\n",
    "\n",
    "HDF5: For managing complex, hierarchical data structures.\n"
   ]
  },
  {
   "cell_type": "markdown",
   "metadata": {},
   "source": [
    "Qn22>> What is heteroscedasticity, and why is it a problem?\n",
    "\n",
    "Heteroscedasticity occurs when residuals have non-constant variance. It violates regression assumptions, leading to inefficient estimates and unreliable hypothesis tests."
   ]
  },
  {
   "cell_type": "markdown",
   "metadata": {},
   "source": [
    "\n",
    "Qn23>> How can interaction terms enhance a regression model's predictive power?\n",
    "\n",
    "Interaction terms capture the combined effect of two or more predictors on the target variable, improving the model's ability to account for complex relationships."
   ]
  },
  {
   "cell_type": "markdown",
   "metadata": {},
   "source": [
    "\n"
   ]
  }
 ],
 "metadata": {
  "language_info": {
   "name": "python"
  }
 },
 "nbformat": 4,
 "nbformat_minor": 2
}
