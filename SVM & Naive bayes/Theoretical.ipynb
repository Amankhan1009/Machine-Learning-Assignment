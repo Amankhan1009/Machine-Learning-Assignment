{
 "cells": [
  {
   "cell_type": "markdown",
   "metadata": {},
   "source": [
    "Q1.What is a Support Vector Machine (SVM)?\n",
    "\n",
    "Ans>>\n",
    "\n",
    "SVM is a supervised learning algorithm used for classification and regression tasks. It finds the optimal hyperplane that maximizes the margin between different classes in a dataset."
   ]
  },
  {
   "cell_type": "markdown",
   "metadata": {},
   "source": [
    "Q2.What is the difference between Hard Margin and Soft Margin SVM?\n",
    "\n",
    "Ans>>\n",
    "\n",
    "Hard Margin SVM strictly separates the classes without allowing misclassification, used when data is linearly separable.\n",
    "\n",
    "\n",
    "Soft Margin SVM allows some misclassification to improve generalization when data is noisy or not completely separable\n",
    "\n"
   ]
  },
  {
   "cell_type": "markdown",
   "metadata": {},
   "source": [
    "Q3.What is the mathematical intuition behind SVM?\n",
    "\n",
    "Ans>>\n",
    "\n",
    "SVM maximizes the margin (distance between the closest data points and the decision boundary). It solves an optimization problem using Lagrange multipliers to minimize classification errors while maximizing separation."
   ]
  },
  {
   "cell_type": "markdown",
   "metadata": {},
   "source": [
    "Q4>>What is the role of Lagrange Multipliers in SVM?\n",
    "\n",
    "Ans>>\n",
    "Lagrange Multipliers are used to transform the constrained optimization problem into a solvable form, ensuring that the decision boundary maximizes the margin while satisfying constraints."
   ]
  },
  {
   "cell_type": "markdown",
   "metadata": {},
   "source": [
    "Q5>>What are Support Vectors in SVM?\n",
    "\n",
    "Ans>>\n",
    "Support vectors are the data points closest to the decision boundary. They determine the position and orientation of the hyperplane."
   ]
  },
  {
   "cell_type": "markdown",
   "metadata": {},
   "source": [
    "Q6>>What is a Support Vector Classifier (SVC)?\n",
    "\n",
    "SVC is the classification variant of SVM that separates classes using an optimal hyperplane."
   ]
  },
  {
   "cell_type": "markdown",
   "metadata": {},
   "source": [
    "Q7>>What is a Support Vector Regressor (SVR)?\n",
    "\n",
    "SVR is the regression version of SVM that finds a function within a margin of tolerance (epsilon) while minimizing error."
   ]
  },
  {
   "cell_type": "markdown",
   "metadata": {},
   "source": [
    "Q8>>What is the Kernel Trick in SVM?\n",
    "\n",
    "The Kernel Trick transforms non-linearly separable data into a higher-dimensional space where a linear decision boundary can be applied"
   ]
  },
  {
   "cell_type": "markdown",
   "metadata": {},
   "source": [
    "Q9>>Compare Linear Kernel, Polynomial Kernel, and RBF Kernel.\n",
    "\n",
    "Linear Kernel: Used when data is linearly separable.\n",
    "\n",
    "Polynomial Kernel: Captures curved decision boundaries \n",
    "by raising features to a polynomial degree.\n",
    "\n",
    "RBF Kernel: Uses a Gaussian function to model highly non-linear relationships."
   ]
  },
  {
   "cell_type": "markdown",
   "metadata": {},
   "source": [
    "Q10>>What is the effect of the C parameter in SVM?\n",
    "\n",
    "The C parameter controls the trade-off between margin maximization and classification error. A high C prioritizes correct classification (low margin), while a low C allows more misclassification (high margin)."
   ]
  },
  {
   "cell_type": "markdown",
   "metadata": {},
   "source": [
    "Q11>>What is the role of the Gamma parameter in RBF Kernel SVM?\n",
    "\n",
    "Gamma defines how far the influence of a training point extends. A high Gamma leads to a more complex model that captures intricate patterns, while a low Gamma creates a more generalized model."
   ]
  },
  {
   "cell_type": "markdown",
   "metadata": {},
   "source": [
    "Q12>>What is the Naïve Bayes classifier, and why is it called \"Naïve\"?\n",
    "\n",
    "Naïve Bayes is a probabilistic classifier based on Bayes' theorem that assumes features are independent (which is often unrealistic, hence \"Naïve\"). Despite this assumption, it performs well in many cases."
   ]
  },
  {
   "attachments": {
    "image.png": {
     "image/png": "[encoded data removed]"
    }
   },
   "cell_type": "markdown",
   "metadata": {},
   "source": [
    "Q13>>What is Bayes' Theorem?\n",
    "\n",
    "Bayes' Theorem describes how to update the probability of a hypothesis given new evidence:\n",
    "\n",
    "![image.png](attachment:image.png)\n",
    "\n",
    "where P(A|B)  is the probability of event A given B."
   ]
  },
  {
   "cell_type": "markdown",
   "metadata": {},
   "source": [
    "Q14>>Explain the differences between Gaussian Naïve Bayes, Multinomial Naïve Bayes, and Bernoulli Naïve Bayes.\n",
    "\n",
    "Gaussian Naïve Bayes: Assumes features follow a normal distribution (used for continuous data).\n",
    "\n",
    "Multinomial Naïve Bayes: Used for text classification and word frequency data.\n",
    "\n",
    "Bernoulli Naïve Bayes: Used for binary feature vectors (e.g., whether a word appears in a document or not).\n"
   ]
  },
  {
   "cell_type": "markdown",
   "metadata": {},
   "source": [
    "Q15>>When should you use Gaussian Naïve Bayes over other variants?\n",
    "\n",
    "Use Gaussian Naïve Bayes when features are continuous and approximately normally distributed."
   ]
  },
  {
   "cell_type": "markdown",
   "metadata": {},
   "source": [
    "Q16>>What are the key assumptions made by Naïve Bayes?\n",
    "\n",
    "Feature independence: Each feature contributes independently to the outcome.\n",
    "\n",
    "Equal importance of features: No feature is assumed to \n",
    "be more influential.\n",
    "\n",
    "Prior probabilities are accurate: Based on training data."
   ]
  },
  {
   "cell_type": "markdown",
   "metadata": {},
   "source": [
    "Q17>>What are the advantages and disadvantages of Naïve Bayes?\n",
    "\n",
    "Advantages: Fast, efficient, works well with small datasets, good for text classification.\n",
    "\n",
    "Disadvantages: Assumes feature independence (often unrealistic), struggles with correlated features."
   ]
  },
  {
   "cell_type": "markdown",
   "metadata": {},
   "source": [
    "Q18>>Why is Naïve Bayes a good choice for text classification?\n",
    "\n",
    "Because text data often consists of many independent words, and Naïve Bayes efficiently handles high-dimensional sparse data."
   ]
  },
  {
   "cell_type": "markdown",
   "metadata": {},
   "source": [
    "Q19>>Compare SVM and Naïve Bayes for classification tasks.\n",
    "\n",
    "SVM: Better for complex boundaries, non-linearly separable data, and large feature spaces.\n",
    "\n",
    "Naïve Bayes: Faster, works well with small datasets, performs well in text classification."
   ]
  },
  {
   "cell_type": "markdown",
   "metadata": {},
   "source": [
    "Q20>>How does Laplace Smoothing help in Naïve Bayes?\n",
    "\n",
    "Laplace Smoothing (adding a small value to each probability) prevents zero probabilities when a feature never appears in training data."
   ]
  },
  {
   "cell_type": "markdown",
   "metadata": {},
   "source": []
  }
 ],
 "metadata": {
  "kernelspec": {
   "display_name": "base",
   "language": "python",
   "name": "python3"
  },
  "language_info": {
   "codemirror_mode": {
    "name": "ipython",
    "version": 3
   },
   "file_extension": ".py",
   "mimetype": "text/x-python",
   "name": "python",
   "nbconvert_exporter": "python",
   "pygments_lexer": "ipython3",
   "version": "3.12.4"
  }
 },
 "nbformat": 4,
 "nbformat_minor": 2
}
