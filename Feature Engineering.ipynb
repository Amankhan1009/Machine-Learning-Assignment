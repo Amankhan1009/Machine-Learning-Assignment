{
 "cells": [
  {
   "cell_type": "markdown",
   "metadata": {},
   "source": [
    "Q1 >> What is a parameter?\n",
    "\n",
    "Ans >> \n",
    "A parameter is a value or variable that is part of a mathematical or statistical model, used to define and determine the behavior of that model. In machine learning, parameters are learned by the model during training, such as weights in a neural network."
   ]
  },
  {
   "cell_type": "markdown",
   "metadata": {},
   "source": [
    "Q2 >> What is correlation?\n",
    "      What does negative correlation mean?\n",
    "\n",
    "Ans >> \n",
    "\n",
    "Correlation measures the statistical relationship between two variables, indicating whether and how strongly they are related. It ranges from -1 to 1. A value closer to 1 indicates a strong positive relationship, and a value closer to -1 indicates a strong negative relationship.\n",
    "\n",
    "Negative correlation occurs when one variable increases while the other decreases. For example, as temperature increases, the demand for heating might decrease."
   ]
  },
  {
   "cell_type": "markdown",
   "metadata": {},
   "source": [
    "Q3 >> Define Machine Learning. What are the main components in Machine Learning?\n",
    "\n",
    "Ans>>\n",
    "\n",
    "Machine learning is a field of AI that enables systems to learn and improve from experience without being explicitly programmed.\n",
    "Main components:\n",
    "Dataset: Input data for training and testing.\n",
    "\n",
    "Features: Variables used for prediction.\n",
    "\n",
    "Model: Algorithm that makes predictions.\n",
    "\n",
    "Loss Function: Measures prediction error.\n",
    "\n",
    "Optimizer: Improves the model during training."
   ]
  },
  {
   "cell_type": "markdown",
   "metadata": {},
   "source": [
    "Q4 >> How does loss value help in determining whether the model is good or not?\n",
    "\n",
    "Ans>>\n",
    "\n",
    "A lower loss value indicates that the model's predictions are closer to the actual values, signifying better performance. However, overly low loss may mean overfitting."
   ]
  },
  {
   "cell_type": "markdown",
   "metadata": {},
   "source": [
    "Q5 >> What are continuous and categorical variables?\n",
    "\n",
    "Ans>>\n",
    "\n",
    "Continuous variables: Numeric values that can take any value within a range (e.g., height, weight).\n",
    "\n",
    "Categorical variables: Non-numeric values that represent categories (e.g., gender, color).\n"
   ]
  },
  {
   "cell_type": "markdown",
   "metadata": {},
   "source": [
    "Q6>> How do we handle categorical variables in Machine Learning? What are the common techniques?\n",
    "\n",
    "Ans>>\n",
    "\n",
    "One-hot encoding: Converts categories into binary columns.\n",
    "\n",
    "\n",
    "Label encoding: Assigns a numeric value to each category.\n",
    "\n",
    "Ordinal encoding: Similar to label encoding but respects the order of categories.\n",
    "\n"
   ]
  },
  {
   "cell_type": "markdown",
   "metadata": {},
   "source": [
    "Q7>> What do you mean by training and testing a dataset?\n",
    "\n",
    "Ans>>\n",
    "\n",
    "Training dataset: Used to train the model.\n",
    "\n",
    "Testing dataset: Used to evaluate the model's performance on unseen data."
   ]
  },
  {
   "cell_type": "markdown",
   "metadata": {},
   "source": [
    "Q8>> What is sklearn.preprocessing?\n",
    "\n",
    "Ans>>\n",
    "\n",
    "It is a module in scikit-learn providing methods for preprocessing data, such as scaling, encoding, and imputing missing values."
   ]
  },
  {
   "cell_type": "markdown",
   "metadata": {},
   "source": [
    "Q9>> What is a test set?\n",
    "\n",
    "Ans>>\n",
    "\n",
    "A test set is a subset of the dataset used to evaluate the performance of a trained model. It ensures the model generalizes well to unseen data."
   ]
  },
  {
   "cell_type": "markdown",
   "metadata": {},
   "source": [
    "Q10>> How do we split data for model fitting (training and testing) in Python?\n",
    "How do you approach a Machine Learning problem?"
   ]
  },
  {
   "cell_type": "markdown",
   "metadata": {},
   "source": [
    "\n",
    "Ans>>\n",
    " Using train_test_split from sklearn.model_selection\n",
    "\n",
    " from sklearn.model_selection import train_test_split\n",
    " \n",
    " X_train, X_test, y_train, y_test = train_test_split(X, y, test_size=0.2, random_state=42)\n",
    "\n",
    " \n",
    "\n",
    " \n",
    "\n",
    " we approach a Machine Learning problem by >>\n",
    "\n",
    "Understand the problem.\n",
    "\n",
    "Collect and preprocess the data.\n",
    "\n",
    "Perform exploratory data analysis (EDA).\n",
    "\n",
    "Choose a model.\n",
    "\n",
    "Train and validate the model.\n",
    "\n",
    "Test and fine-tune the model.\n"
   ]
  },
  {
   "cell_type": "markdown",
   "metadata": {},
   "source": [
    "Q11>>Why do we have to perform EDA before fitting a model to the data?\n",
    "\n",
    "Ans>>\n",
    "\n",
    "EDA helps understand the dataset's structure, identify patterns, detect outliers, and determine relationships between variables."
   ]
  },
  {
   "cell_type": "code",
   "execution_count": null,
   "metadata": {},
   "outputs": [],
   "source": [
    "# Q12>> How can you find correlation between variables in Python?\n",
    "# Using the corr() function in pandas:\n",
    "\n",
    "# Ans>> \n",
    "# import pandas as pd\n",
    "# correlation_matrix = df.corr()\n"
   ]
  },
  {
   "cell_type": "markdown",
   "metadata": {},
   "source": [
    "Q13 >> What is causation? Explain the difference between correlation and causation with an example.\n",
    "\n",
    "Ans>> \n",
    "\n",
    "Causation: One variable directly affects another.\n",
    "\n",
    "Correlation: Two variables are related but not necessarily causally.\n",
    "\n",
    "Example: Ice cream sales and drowning rates are correlated (both increase in summer) but don't cause each other."
   ]
  },
  {
   "cell_type": "markdown",
   "metadata": {},
   "source": [
    "Q14 >> What is an Optimizer? What are different types of optimizers?\n",
    "\n",
    "Ans>>\n",
    "\n",
    "An optimizer minimizes the loss function by updating model parameters. \n",
    "Examples:\n",
    "Gradient Descent,\n",
    "Adam,\n",
    "RMSprop"
   ]
  },
  {
   "cell_type": "markdown",
   "metadata": {},
   "source": [
    "Q15 >> What is sklearn.linear_model?\n",
    "\n",
    "Ans>>\n",
    "\n",
    "A module in scikit-learn containing methods for linear models such as Linear Regression, Logistic Regression, and Ridge Regression."
   ]
  },
  {
   "cell_type": "markdown",
   "metadata": {},
   "source": [
    "\n",
    "Q16 >> What does model.fit() do? What arguments must be given?\n",
    "model.fit() trains the model on the dataset. Arguments:\n",
    "\n",
    "Ans>>\n",
    "\n",
    "Features (X)\n",
    "\n",
    "Target labels (y)."
   ]
  },
  {
   "cell_type": "markdown",
   "metadata": {},
   "source": [
    "Q17 >> What does model.predict() do? What arguments must be given?\n",
    "\n",
    "Ans>>\n",
    "\n",
    "model.predict() generates predictions using the trained model. \n",
    "\n",
    "Arguments:Test data (X_test)."
   ]
  },
  {
   "cell_type": "markdown",
   "metadata": {},
   "source": [
    "\n",
    "Q18>> What are continuous and categorical variables?\n",
    "\n",
    "Ans>> \n",
    "Continuous variables: Numeric values that can take any value within a range (e.g., height, weight).\n",
    "\n",
    "Categorical variables: Non-numeric values that represent categories (e.g., gender, color)."
   ]
  },
  {
   "cell_type": "markdown",
   "metadata": {},
   "source": [
    "\n",
    "Q19>> What is feature scaling? How does it help in Machine Learning?\n",
    "\n",
    "Ans>>\n",
    "\n",
    "Feature scaling normalizes features to comparable ranges, improving gradient-based algorithms' performance.\n",
    "Methods:\n",
    "\n",
    "Standardization: Subtract the mean and divide by standard deviation.\n",
    "Normalization: Scale to a [0, 1] range."
   ]
  },
  {
   "cell_type": "code",
   "execution_count": 5,
   "metadata": {},
   "outputs": [],
   "source": [
    "\n",
    "# Q20>> How do we perform scaling in Python?\n",
    "\n",
    "# Ans >>\n",
    "\n",
    "# Using StandardScaler or MinMaxScaler:\n",
    "# from sklearn.preprocessing import StandardScaler\n",
    "# scaler = StandardScaler()\n",
    "# X_scaled = scaler.fit_transform(X)\n"
   ]
  },
  {
   "cell_type": "markdown",
   "metadata": {},
   "source": [
    "Q21>> What is sklearn.preprocessing?\n",
    "\n",
    "Ans >> \n",
    "\n",
    "This module in scikit-learn provides tools for data preprocessing, including:\n",
    "\n",
    "Scaling features (StandardScaler)\n",
    "\n",
    "\n",
    "Encoding (OneHotEncoder, LabelEncoder)\n",
    "\n",
    "Normalization (Normalizer)"
   ]
  },
  {
   "cell_type": "code",
   "execution_count": 6,
   "metadata": {},
   "outputs": [],
   "source": [
    "# Q22>> How do we split data for model fitting (training and testing) in Python?\n",
    "\n",
    "# Ans>>\n",
    "\n",
    "# Use the train_test_split() function from sklearn.model_selection:\n",
    "\n",
    "# from sklearn.model_selection import train_test_split\n",
    "# X_train, X_test, y_train, y_test = train_test_split(X, y, test_size=0.2, random_state=42)\n",
    "\n"
   ]
  },
  {
   "cell_type": "markdown",
   "metadata": {},
   "source": [
    "Q23>> Explain data encoding.\n",
    "\n",
    "Ans>>\n",
    "\n",
    "Data encoding converts categorical data into numeric form.\n",
    "Techniques:\n",
    "\n",
    "One-hot encoding: Converts categories into binary columns.\n",
    "Label encoding: Maps each category to an integer.\n"
   ]
  },
  {
   "cell_type": "markdown",
   "metadata": {},
   "source": [
    "Q24>> What is an Optimizer? What are different types of optimizers? Explain each with an example.\n",
    "\n",
    "Ans>>\n",
    "\n",
    "An optimizer adjusts model parameters (weights and biases) to minimize the loss function and improve model accuracy.\n",
    "\n",
    "Types of Optimizers:\n",
    "\n",
    "Gradient Descent:\n",
    "Iteratively updates parameters using the gradient of the loss function.\n",
    "Example: Basic Gradient Descent formula:\n",
    "\n",
    "Stochastic Gradient Descent (SGD):\n",
    "Updates parameters using one data point at a time, faster but noisier.\n",
    "\n",
    "Adam (Adaptive Moment Estimation):\n",
    "Combines momentum and adaptive learning rates for efficient optimization.\n",
    "Example: Commonly used for neural networks.\n",
    "\n",
    "RMSprop:\n",
    "Adjusts learning rates based on the moving average of recent gradients. Useful for non-stationary objectives.\n",
    "\n",
    "Momentum:\n",
    "Speeds up convergence by adding a fraction of the previous gradient to the current update.\n",
    "\n",
    "\n",
    "\n",
    "\n",
    "\n",
    "\n"
   ]
  },
  {
   "cell_type": "markdown",
   "metadata": {},
   "source": [
    "Q25>> What is sklearn.linear_model ?\n",
    "\n",
    "Ans>>\n",
    "\n",
    "sklearn.linear_model is a module in scikit-learn that provides implementations of linear models for both regression and classification tasks. These models are based on the principle of finding a linear relationship between input features and the target variable."
   ]
  },
  {
   "cell_type": "markdown",
   "metadata": {},
   "source": [
    "# There is small problem in numbering in question in my file"
   ]
  },
  {
   "cell_type": "markdown",
   "metadata": {},
   "source": []
  }
 ],
 "metadata": {
  "kernelspec": {
   "display_name": "base",
   "language": "python",
   "name": "python3"
  },
  "language_info": {
   "codemirror_mode": {
    "name": "ipython",
    "version": 3
   },
   "file_extension": ".py",
   "mimetype": "text/x-python",
   "name": "python",
   "nbconvert_exporter": "python",
   "pygments_lexer": "ipython3",
   "version": "3.12.4"
  }
 },
 "nbformat": 4,
 "nbformat_minor": 2
}
